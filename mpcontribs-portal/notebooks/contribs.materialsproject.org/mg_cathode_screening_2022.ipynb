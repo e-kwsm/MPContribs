{
 "cells": [
  {
   "cell_type": "code",
   "execution_count": null,
   "id": "quick-recognition",
   "metadata": {},
   "outputs": [],
   "source": [
    "# https://contribs.materialsproject.org/projects/mg_cathode_screening_2022\n",
    "from mpcontribs.client import Client, Attachment\n",
    "from flatten_dict import flatten, unflatten\n",
    "from pymatgen.core import Structure\n",
    "from datetime import datetime"
   ]
  },
  {
   "cell_type": "code",
   "execution_count": null,
   "id": "square-fraction",
   "metadata": {},
   "outputs": [],
   "source": [
    "client = Client(project=\"mg_cathode_screening_2022\") # provide API key via `apikey` argument"
   ]
  },
  {
   "cell_type": "markdown",
   "id": "2bd868c0-8e1d-4971-aafe-4df0cfe15812",
   "metadata": {},
   "source": [
    "## Initial MPContribs Page Set-Up"
   ]
  },
  {
   "cell_type": "code",
   "execution_count": null,
   "id": "weekly-introduction",
   "metadata": {},
   "outputs": [],
   "source": [
    "# update project info\n",
    "client.update_project(update={\"title\": \"Mg Cathode Screening\"})"
   ]
  },
  {
   "cell_type": "code",
   "execution_count": null,
   "id": "94a41d39-631e-482a-af76-c80a7846c5cb",
   "metadata": {},
   "outputs": [],
   "source": [
    "client.update_project(update={\"description\":\"A computational screening approach to identify high-performance multivalent intercalation cathodes among materials that do not contain the working ion of interest has been developed, which greatly expands the search space that can be considered for material discovery (https://doi.org/10.1021/acsami.2c11733). This magnesium intercalation cathode data set of phase stability, energy density, & transport properties has been generated using these methods but applied to a larger set of materials than the original publication. 5,853 empty host materials of the 16,682 materials previously down selected based on their reducible species oxidation state were prioritized for Mg insertions based on excluding candidates which contained an extractable ion (H, Li, Na, K, Rb, Cs, Mg, Ca, Cs, Ag, Cu). Of these 5,863 attempted Mg insertion workflows, 83% resulted in at least one viable Mg site. This ultimately resulted in 4,872 Mg cathodes from which 229 ApproxNEB workflows were attempted. There were 193 unique structure types in these 229 candidates. All ApproxNEB images calculations successfully completed for 97 electrodes. This data set uses the following python objects: pymatgen.apps.battery.insertion_battery.InsertionElectrode and pymatgen.analysis.diffusion.neb.full_path_mapper.MigrationGraph\"})"
   ]
  },
  {
   "cell_type": "code",
   "execution_count": null,
   "id": "threaded-rainbow",
   "metadata": {},
   "outputs": [],
   "source": [
    "# add legend for project in `other`\n",
    "client.update_project(update={\"other\": {\"identifier\": \"Material Project ID for empty host material\",\n",
    "                                        \"formula\": \"Empty host material chemical formula\",\n",
    "                                        \n",
    "                                        \"host.formulaAnonymous\": \"Empty host material anonumous chemical formula\",\n",
    "                                        \"host.nelements\": \"Number of distinct elements in empty host material\",\n",
    "                                        \"host.chemsys\": \"Empty host material chemical system of distinct elements sorted alphabetically and joined by dashes\",\n",
    "                                         \n",
    "                                        \"ICSD.exp\": \"Whether empty host material is an ICSD experimental structure\",\n",
    "                                        \"ICSD.ids\": \"Identifiers for the Inorganic Crystal Structure Database\",\n",
    "                                         \n",
    "                                        \"battery.id\": \"Unique identifier for electrode where 'js-' distinguishes calculations from the screening development phase\",\n",
    "                                        \"battery.formula\": \"Electrode chemical formula including the working ion fraction\",\n",
    "                                        \"battery.workingIon\": \"Battery system working ion\",\n",
    "                                        \"battery.voltage\": \"Average voltage in Volts across all voltage pairs\",\n",
    "                                        \"battery.capacity\": \"Total gravimetric capacity in mAh/g of cathode active material\",\n",
    "                                        \"battery.stability|charge\": \"Energy above hull in eV/atom, a metric of the phase stability of the charged (empty) state\",\n",
    "                                        \"battery.stability|discharge\": \"Energy above hull in eV/atom, a metric of the phase stability of the discharged (intercalated) state\",\n",
    "                                        \"battery.Δvolume\": \"Largest volume change in % across all voltage pairs\",\n",
    "                                         \n",
    "                                        \"MigrationGraph.found\": \"Whether a migration graph mapping out connections between working ion sites could be successfully generated\",\n",
    "                                        \"MigrationGraph.npaths\": \"The number of possible percolating pathways identified from the migration graph\",\n",
    "                                         \n",
    "                                        \"ApproxNEB.uuid\": \"If available, identifier for ApproxNEB calculations for migration graph pathway energetics\",\n",
    "                                        \"ApproxNEB.complete\": \"If ApproxNEB calculations are available, the fraction of calculations that were successfully completed\",\n",
    "}})"
   ]
  },
  {
   "cell_type": "markdown",
   "id": "8693a4f8-6a05-463d-9304-c29589210f28",
   "metadata": {},
   "source": [
    "## Reset Data if Reuploading"
   ]
  },
  {
   "cell_type": "code",
   "execution_count": null,
   "id": "universal-azerbaijan",
   "metadata": {},
   "outputs": [],
   "source": [
    "client.get_project()"
   ]
  },
  {
   "cell_type": "code",
   "execution_count": null,
   "id": "7b5136ee-ae94-491d-9e84-f889aca6dbda",
   "metadata": {},
   "outputs": [],
   "source": [
    "#client.delete_contributions()"
   ]
  },
  {
   "cell_type": "markdown",
   "id": "af48f281-2e20-45e4-a33f-2b7399bf0c56",
   "metadata": {},
   "source": [
    "## Set Project Data Columns"
   ]
  },
  {
   "cell_type": "code",
   "execution_count": null,
   "id": "3f1e7076-4f43-492d-b7fb-1a7530564d20",
   "metadata": {},
   "outputs": [],
   "source": [
    "columns = {\n",
    "    \"formula_anonymous\": {\"name\": \"host.formulaAnonymous\", \"unit\": None},\n",
    "    \"nelements\": {\"name\": \"host.nelements\", \"unit\": \"\"},\n",
    "    \"chemsys\": {\"name\": \"host.chemsys\", \"unit\": None},\n",
    "    \n",
    "    \"icsd_experimental\": {\"name\": \"ICSD.exp\", \"unit\": None}, # convert bool to Yes/No string\n",
    "    \"icsd_ids\": {\"name\": \"ICSD.ids\", \"unit\": None},\n",
    "    \n",
    "    \"battery_id\": {\"name\": \"battery.id\", \"unit\": None},\n",
    "    \"battery_formula\": {\"name\": \"battery.formula\", \"unit\": None},\n",
    "    \"working_ion\": {\"name\": \"battery.workingIon\", \"unit\": None},\n",
    "    \"average_voltage\": {\"name\": \"battery.voltage\", \"unit\": \"V\"},\n",
    "    \"capacity_grav\": {\"name\": \"battery.capacity\", \"unit\": \"mAh/g\"}, \n",
    "    \"stability_charge\": {\"name\": \"battery.stability|charge\", \"unit\": \"eV/atom\"},\n",
    "    \"stability_discharge\": {\"name\": \"battery.stability|discharged\", \"unit\": \"eV/atom\"},\n",
    "    \"max_delta_volume\": {\"name\": \"battery.Δvolume\", \"unit\": \"%\"},\n",
    "    \n",
    "    \"migration_graph_found\": {\"name\": \"MigrationGraph.found\", \"unit\": None},\n",
    "    \"num_paths_found\": {\"name\": \"MigrationGraph.npaths\", \"unit\": \"\"},# emptry string indicates dimensionless number\n",
    "    \n",
    "    \"aneb_wf_uuid\": {\"name\": \"ApproxNEB.uuid\", \"unit\": None},\n",
    "    \"aneb_wf_complete\": {\"name\": \"ApproxNEB.complete\", \"unit\": \"\"},\n",
    "}"
   ]
  },
  {
   "cell_type": "code",
   "execution_count": null,
   "id": "70fa0a68-6fde-42ce-b62f-2e68e3f8e168",
   "metadata": {},
   "outputs": [],
   "source": [
    "columns_map = {v[\"name\"]: v[\"unit\"] for k, v in columns.items()}\n",
    "client.init_columns(columns_map)"
   ]
  },
  {
   "cell_type": "markdown",
   "id": "3e294f23-dcc3-483a-bdd2-11ff74ad171c",
   "metadata": {},
   "source": [
    "## Get Project Data"
   ]
  },
  {
   "cell_type": "code",
   "execution_count": null,
   "id": "consistent-lighter",
   "metadata": {},
   "outputs": [],
   "source": [
    "from maggma.stores.advanced_stores import MongograntStore"
   ]
  },
  {
   "cell_type": "code",
   "execution_count": null,
   "id": "25d921cd-8b7b-4412-b196-ef23c5aec9b3",
   "metadata": {},
   "outputs": [],
   "source": [
    "# Includes both insertion electrodes and migration graph builder data\n",
    "# Applies cost function based on voltage and stability (specific to Mg) for prioritizing electrodes\n",
    "# Created by custom MapBuilder: https://github.com/materialsproject/emmet/commit/692bdf5eff67fe1b0f48e1a13cee999af9136aae\n",
    "rank_store = MongograntStore(\n",
    "    \"ro:mongodb07-ext.nersc.gov/fw_acr_mv\",\"rank_electrodes_2022\",key=\"battery_id\"\n",
    ")\n",
    "rank_store.connect()\n",
    "print(rank_store.count())\n",
    "\n",
    "# Raw ApproxNEB workflow data (note 2 of the 229 ApproxNEB workflows had unsuccessful host calculations)\n",
    "aneb_store = MongograntStore(\n",
    "    \"ro:mongodb07-ext.nersc.gov/fw_acr_mv\",\"approx_neb\",key=\"wf_uuid\"\n",
    ")\n",
    "aneb_store.connect()\n",
    "print(aneb_store.count(),aneb_store.count({\"tags\":{\"$all\":[\"migration_graph_2022\"]}}))"
   ]
  },
  {
   "cell_type": "code",
   "execution_count": null,
   "id": "quarterly-speaker",
   "metadata": {},
   "outputs": [],
   "source": [
    "columns_map = {v[\"name\"]: v[\"unit\"] for k, v in columns.items()}\n",
    "client.init_columns(columns_map)"
   ]
  },
  {
   "cell_type": "code",
   "execution_count": null,
   "id": "69487a7a-ece2-4201-8077-668f67860ad5",
   "metadata": {},
   "outputs": [],
   "source": [
    "contrib_docs = []\n",
    "for bid in bids:\n",
    "    rank_doc = rank_store.query_one({\"battery_id\":bid})\n",
    "    aneb_doc = aneb_store.query_one({\"battery_id\":bid})\n",
    "\n",
    "    contrib_doc = {\n",
    "        \"battery_id\":bid,\n",
    "        # host structure properties\n",
    "        \"host_mp_ids\":rank_doc[\"host_mp_ids\"],\n",
    "        \"icsd_experimental\":rank_doc[\"icsd_experimental\"],\n",
    "        \"icsd_ids\":rank_doc[\"host_icsd_ids\"],\n",
    "        \"formula\":rank_doc[\"framework_formula\"],\n",
    "        \"formula_anonymous\":rank_doc[\"formula_anonymous\"],\n",
    "        \"nelements\":rank_doc[\"nelements\"],\n",
    "        \"chemsys\":rank_doc[\"chemsys\"],\n",
    "        \"composition\":rank_doc[\"framework\"],\n",
    "        \"structure\":rank_doc[\"host_structure\"],\n",
    "        # electrode properties\n",
    "        \"working_ion\":rank_doc[\"working_ion\"],\n",
    "        \"electrode_object\":rank_doc[\"electrode_object\"],\n",
    "        \"battery_formula\":rank_doc[\"battery_formula\"],\n",
    "        \"average_voltage\":rank_doc[\"average_voltage\"],\n",
    "        \"capacity_grav\":rank_doc[\"capacity_grav\"],\n",
    "        \"stability_charge\":rank_doc[\"stability_charge\"],\n",
    "        \"stability_discharge\":rank_doc[\"stability_discharge\"],\n",
    "        \"max_delta_volume\":100*rank_doc[\"max_delta_volume\"], #convert to percentage\n",
    "        # migration graph properties\n",
    "        \"migration_graph_found\":True if rank_doc[\"migration_graph\"] else False,\n",
    "        \"migration_graph\":{\"battery_id\":bid,\n",
    "                           \"migration_graph\":rank_doc[\"migration_graph\"],\n",
    "                           \"hop_cutoff\":rank_doc[\"hop_cutoff\"],\n",
    "                           \"entries_for_generation\":rank_doc[\"entries_for_generation\"],\n",
    "                           \"working_ion_entry\":rank_doc[\"working_ion_entry\"],\n",
    "                          },\n",
    "        \"num_paths_found\":rank_doc[\"num_paths_found\"],\n",
    "    }\n",
    "    \n",
    "    if aneb_doc is not None:\n",
    "        # get aneb data for each hop\n",
    "        aneb_wf_uuid = aneb_doc[\"wf_uuid\"]\n",
    "        aneb_wf_data = {}\n",
    "        for aneb_hop_key,hop_key in aneb_doc[\"hop_combo_mapping\"].items():\n",
    "            combo = aneb_hop_key.split(\"+\")\n",
    "            if len(combo) == 2:\n",
    "                c = [int(combo[0]), int(combo[1])]\n",
    "            data = [aneb_doc[\"end_points\"][c[0]]]\n",
    "            if \"images\" not in aneb_doc.keys():\n",
    "                data.extend([{\"index\":i} for i in range(5)])\n",
    "            else:\n",
    "                if aneb_hop_key in aneb_doc[\"images\"]:\n",
    "                    data.extend(aneb_doc[\"images\"][aneb_hop_key])\n",
    "                else:\n",
    "                    data.extend([{\"index\":i} for i in range(5)])\n",
    "                data.append(aneb_doc[\"end_points\"][c[1]])\n",
    "            aneb_wf_data.update({hop_key:data})\n",
    "        aneb_host = aneb_doc[\"host\"]\n",
    "        \n",
    "        # determine fraction of aneb data available\n",
    "        total = 0\n",
    "        complete = 0\n",
    "        for k,v in aneb_wf_data.items():\n",
    "            total += len(v)\n",
    "            complete += len([i for i in v if \"output\" in i.keys()])\n",
    "        aneb_wf_complete = complete / total\n",
    "        \n",
    "    else:\n",
    "        aneb_wf_uuid = None\n",
    "        aneb_host = None\n",
    "        aneb_wf_data = None\n",
    "        aneb_wf_complete = None\n",
    "         \n",
    "    # add aneb wf properties and data\n",
    "    contrib_doc.update({\n",
    "        \"aneb_wf_uuid\":aneb_wf_uuid,\n",
    "        \"aneb_wf_data\":{\"conversion_matrix\":rank_doc[\"conversion_matrix\"],\n",
    "                        \"matrix_supercell_structure\":rank_doc[\"matrix_supercell_structure\"],\n",
    "                        \"inserted_ion_coords\":rank_doc[\"inserted_ion_coords\"],\n",
    "                        \"insert_coords_combo\":rank_doc[\"insert_coords_combo\"],\n",
    "                        \"host_data\":aneb_host,\n",
    "                        \"hop_data\":aneb_wf_data,\n",
    "                       },\n",
    "        \"aneb_wf_complete\":aneb_wf_complete\n",
    "    })\n",
    "    \n",
    "    # clean-up formatting for MP Contribs\n",
    "    for k,v in contrib_doc.items():\n",
    "        if type(v) is bool:\n",
    "            if v is True:\n",
    "                contrib_doc[k] = \"yes\"\n",
    "            if v is False:\n",
    "                contrib_doc[k] = \"no\"\n",
    "        if type(v) is list:\n",
    "            if k in [\"icsd_ids\"]:\n",
    "                if len(v) == 0:\n",
    "                    contrib_doc[k] = \"\"\n",
    "                if len(v) == 1:\n",
    "                    contrib_doc[k] = str(v[0])\n",
    "                elif len(v) > 1:\n",
    "                    contrib_doc[k] = \",\".join(str(i) for i in v)\n",
    "                    \n",
    "    contrib_docs.append(contrib_doc)\n",
    "print(len(contrib_docs),\"original\")"
   ]
  },
  {
   "cell_type": "code",
   "execution_count": null,
   "id": "7bc934c8-c8a8-4dd7-9fbb-c28d58040658",
   "metadata": {},
   "outputs": [],
   "source": [
    "from copy import deepcopy"
   ]
  },
  {
   "cell_type": "code",
   "execution_count": null,
   "id": "1d54f494-c702-4187-9a5d-b4ad20c90313",
   "metadata": {},
   "outputs": [],
   "source": [
    "# duplicate and split entries if multiple mp_ids\n",
    "docs = []\n",
    "for d in contrib_docs:\n",
    "    if len(d[\"host_mp_ids\"]) > 1:\n",
    "        for mp_id in d[\"host_mp_ids\"]:\n",
    "            temp_doc = deepcopy(d)\n",
    "            temp_doc[\"host_mp_ids\"] = [mp_id]\n",
    "            docs.append(temp_doc)\n",
    "    else:\n",
    "        docs.append(d)\n",
    "contrib_docs = docs\n",
    "print(len(contrib_docs),\"split\")"
   ]
  },
  {
   "cell_type": "markdown",
   "id": "10fded1f-a145-4a1e-a3b9-3622cdce6a18",
   "metadata": {},
   "source": [
    "## Upload Contributions"
   ]
  },
  {
   "cell_type": "code",
   "execution_count": null,
   "id": "respective-certificate",
   "metadata": {},
   "outputs": [],
   "source": [
    "contributions = []\n",
    "structure_keys = [\"structure\"]\n",
    "attachment_keys = [\"electrode_object\", \"migration_graph\", \"aneb_wf_data\"]\n",
    "\n",
    "for doc in contrib_docs:\n",
    "    identifier = doc[\"host_mp_ids\"][0] if doc[\"host_mp_ids\"] else doc[\"battery_id\"]\n",
    "    formula = doc[\"formula\"]\n",
    "    contrib = {\"identifier\": identifier, \"formula\": formula, \"data\": {}, \"structures\": [], \"attachments\": []}\n",
    "    \n",
    "    for k in structure_keys:\n",
    "        sdct = doc.pop(k, None)\n",
    "        if sdct:\n",
    "            structure = Structure.from_dict(sdct)\n",
    "            structure.name = k\n",
    "            contrib[\"structures\"].append(structure)\n",
    "        \n",
    "    for k in attachment_keys:\n",
    "        # skip attachments if not available\n",
    "        if k == \"migration_graph\" and doc[\"migration_graph_found\"] == \"no\":\n",
    "            pass\n",
    "        elif k == \"aneb_wf_data\" and doc[\"aneb_wf_uuid\"] is None:\n",
    "            pass\n",
    "        else:\n",
    "            attm_dct = doc.pop(k, None)\n",
    "            if attm_dct:\n",
    "                attm = Attachment.from_data(k, attm_dct)\n",
    "                contrib[\"attachments\"].append(attm)\n",
    "        \n",
    "    clean = {k: v for k, v in doc.items() if k[0] != \"_\" and not isinstance(v, datetime)}\n",
    "    raw = Attachment.from_data(\"raw\", clean)\n",
    "    contrib[\"attachments\"].append(raw)\n",
    "        \n",
    "    flat_doc = flatten(clean, max_flatten_depth=2, reducer=\"dot\")\n",
    "    for col, config in columns.items():\n",
    "        value = flat_doc.get(col)\n",
    "        if value:\n",
    "            name, unit = config[\"name\"], config[\"unit\"]\n",
    "            contrib[\"data\"][name] = f\"{value:.3g} {unit}\" if unit else value\n",
    "    \n",
    "    contrib[\"data\"] = unflatten(contrib[\"data\"], splitter=\"dot\")\n",
    "    contributions.append({k: v for k, v in contrib.items() if v})\n",
    "\n",
    "len(contributions)"
   ]
  },
  {
   "cell_type": "code",
   "execution_count": null,
   "id": "persistent-evans",
   "metadata": {},
   "outputs": [],
   "source": [
    "contributions[0][\"data\"]"
   ]
  },
  {
   "cell_type": "code",
   "execution_count": null,
   "id": "special-attack",
   "metadata": {},
   "outputs": [],
   "source": [
    "# client.delete_contributions()\n",
    "# client.init_columns(columns_map)"
   ]
  },
  {
   "cell_type": "code",
   "execution_count": null,
   "id": "informal-radio",
   "metadata": {},
   "outputs": [],
   "source": [
    "# client.submit_contributions(contributions, ignore_dupes=True)\n",
    "# client.init_columns(columns_map)"
   ]
  },
  {
   "cell_type": "markdown",
   "id": "cd2f6788-6ea6-4bc4-939f-848ce62d4ffa",
   "metadata": {},
   "source": [
    "## Query / Check Attachments"
   ]
  },
  {
   "cell_type": "code",
   "execution_count": null,
   "id": "e22a9fa2-0d19-4664-8b83-39d9f73879db",
   "metadata": {},
   "outputs": [],
   "source": [
    "import pandas as pd\n",
    "import json\n",
    "import numpy as np\n",
    "from pydash import get\n",
    "\n",
    "from pymatgen.core import Structure\n",
    "from pymatgen.apps.battery.insertion_battery import InsertionElectrode\n",
    "from emmet.core.mobility.migrationgraph import MigrationGraphDoc\n",
    "from pymatgen.analysis.diffusion.neb.full_path_mapper import MigrationGraph\n",
    "from pymatgen.analysis.diffusion.utils.edge_data_from_sc import add_edge_data_from_sc"
   ]
  },
  {
   "cell_type": "code",
   "execution_count": null,
   "id": "49494571-86f8-43a2-8879-ed4945b3dbbc",
   "metadata": {},
   "outputs": [],
   "source": [
    "query = {\n",
    "    \"identifier\": \"mp-10093\"\n",
    "}\n",
    "fields = [\"identifier\",\"ICSD.ids\",\"attachments\"]\n",
    "contribs = client.query_contributions(query=query, fields=fields, sort=\"identifier\", paginate=True)\n",
    "pd.json_normalize(contribs[\"data\"])"
   ]
  },
  {
   "cell_type": "code",
   "execution_count": null,
   "id": "dec931ba-10ce-4e48-a8e2-bb167a92e2bf",
   "metadata": {},
   "outputs": [],
   "source": [
    "contribs[\"data\"][0][\"attachments\"]"
   ]
  },
  {
   "cell_type": "code",
   "execution_count": null,
   "id": "fa1e05dc-25d9-436a-9997-22874b96a673",
   "metadata": {},
   "outputs": [],
   "source": [
    "# manually update for given data entry to check attachments\n",
    "ie_attm = client.get_attachment(\"649e04a46b124d797b301add\")\n",
    "mg_attm = client.get_attachment(\"649e04a46b124d797b301ade\")\n",
    "aneb_attm = client.get_attachment(\"649e04a46b124d797b301adf\")"
   ]
  },
  {
   "cell_type": "code",
   "execution_count": null,
   "id": "cc0359f3-e017-4aee-8e38-0ab6e04bd335",
   "metadata": {},
   "outputs": [],
   "source": [
    "ie = InsertionElectrode.from_dict(json.loads(ie_attm.unpack()))\n",
    "mgd = MigrationGraphDoc.parse_obj(json.loads(mg_attm.unpack()))\n",
    "mg = MigrationGraph.from_dict(json.loads(mg_attm.unpack())[\"migration_graph\"])\n",
    "aneb_data = json.loads(aneb_attm.unpack())"
   ]
  },
  {
   "cell_type": "code",
   "execution_count": null,
   "id": "99cbb819-1382-4fa4-8419-42649c82eeb1",
   "metadata": {},
   "outputs": [],
   "source": [
    "# use migration graph to identify possible pathways\n",
    "mg.assign_cost_to_graph()\n",
    "for n,path in mg.get_path():\n",
    "    print(\"path\",n)\n",
    "    for hop in path:\n",
    "        print(hop[\"ipos\"],hop[\"epos\"],hop[\"to_jimage\"])\n",
    "    print()"
   ]
  },
  {
   "cell_type": "code",
   "execution_count": null,
   "id": "38f4c656-e7ce-4edc-80f5-36a222d2b32f",
   "metadata": {},
   "outputs": [],
   "source": [
    "# map ApproxNEB data onto migration graph\n",
    "for k,v in aneb_data[\"hop_data\"].items():\n",
    "    sc_structs = [Structure.from_dict(i[\"input_structure\"]) for i in v]\n",
    "    energies = [get(i, \"output.energy\") for i in v]\n",
    "    add_edge_data_from_sc(\n",
    "        mg,i_sc=sc_structs[0],e_sc=sc_structs[-1],data_array=sc_structs,key=\"sc_structs\"\n",
    "    )\n",
    "    add_edge_data_from_sc(\n",
    "        mg,i_sc=sc_structs[0],e_sc=sc_structs[-1],data_array=energies,key=\"energies\"\n",
    "    )"
   ]
  },
  {
   "cell_type": "code",
   "execution_count": null,
   "id": "a6907e39-26b1-44ef-9ccd-56be6a768643",
   "metadata": {},
   "outputs": [],
   "source": [
    "# evaluate pathway energetics using ApproxNEB data\n",
    "for n,path in mg.get_path():\n",
    "    #for hop in path:\n",
    "        #print(hop[\"ipos\"],hop[\"epos\"],hop[\"to_jimage\"])\n",
    "    energies = np.array([hop[\"energies\"] for hop in path],dtype=float)\n",
    "    path_barrier = 1000 * (energies.max() - energies.min())\n",
    "    print(\"path\", n, \"ApproxNEB barrier\", round(path_barrier), \"meV\")"
   ]
  }
 ],
 "metadata": {
  "kernelspec": {
   "display_name": "Python 3",
   "language": "python",
   "name": "python3"
  },
  "language_info": {
   "codemirror_mode": {
    "name": "ipython",
    "version": 3
   },
   "file_extension": ".py",
   "mimetype": "text/x-python",
   "name": "python",
   "nbconvert_exporter": "python",
   "pygments_lexer": "ipython3",
   "version": "3.7.4"
  }
 },
 "nbformat": 4,
 "nbformat_minor": 5
}
