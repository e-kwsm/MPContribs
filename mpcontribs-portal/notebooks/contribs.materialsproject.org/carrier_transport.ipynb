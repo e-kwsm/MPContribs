{
 "cells": [
  {
   "cell_type": "code",
   "execution_count": null,
   "metadata": {},
   "outputs": [],
   "source": [
    "from mpcontribs.client import Client\n",
    "import gzip, json, os\n",
    "import numpy as np\n",
    "from pandas import DataFrame\n",
    "from collections import defaultdict\n",
    "from tqdm.notebook import tqdm\n",
    "from unflatten import unflatten\n",
    "from pathlib import Path\n",
    "\n",
    "name = 'carrier_transport'"
   ]
  },
  {
   "cell_type": "markdown",
   "metadata": {},
   "source": [
    "### Configure project"
   ]
  },
  {
   "cell_type": "code",
   "execution_count": null,
   "metadata": {},
   "outputs": [],
   "source": [
    "description = \"\"\"\n",
    "Ab-initio electronic transport database for inorganic materials. Complex multivariable BoltzTraP\n",
    "simulation data is condensed down into tabular form of two main motifs: average eigenvalues at set\n",
    "moderate carrier concentrations and temperatures, and optimal values among all carrier concentrations\n",
    "and temperatures within certain ranges. Here are reported the average of the eigenvalues of conductivity\n",
    "effective mass (mₑᶜᵒⁿᵈ), the Seebeck coefficient (S), the conductivity (σ), the electronic thermal\n",
    "conductivity (κₑ), and the Power Factor (PF) at a doping level of 10¹⁸ cm⁻³ and at a temperature of 300 K\n",
    "for n- and p-type. Also, the maximum values for S, σ, PF, and the minimum value for κₑ chosen among the\n",
    "temperatures [100, 1300] K, the doping levels [10¹⁶, 10²¹] cm⁻³, and doping types are reported. The\n",
    "properties that depend on the relaxation time are reported divided by the constant value 10⁻¹⁴. The\n",
    "average of the eigenvalues for all the properties at all the temperatures, doping levels, and doping\n",
    "types are reported in the tables for each entry.\n",
    "\"\"\"\n",
    "\n",
    "legend = {\n",
    "    \"task\": \"Materials project task_id\",\n",
    "    \"functional\": \"Type of DFT functional \\\n",
    "    (GGA: generalized gradient approximation, GGA+U: GGA + U approximation)\",\n",
    "    \"metal\": \"If True, crystal is a metal\",\n",
    "    'ΔE': 'Band gap in eV',\n",
    "    'V' : \"Unit cell volume, in cubic angstrom\",\n",
    "    'mₑᶜ': 'Eigenvalues (ε₁, ε₂, ε₃) of the conductivity effective mass and their average (ε̄)',\n",
    "    'S': 'Average eigenvalue of the Seebeck coefficient',\n",
    "    'σ' : 'Average eigenvalue of the conductivity',\n",
    "    'κₑ' : 'Average eigenvalue of the electrical thermal conductivity',\n",
    "    'PF': 'Average eigenvalue of the Power Factor',\n",
    "    'Sᵉ': 'Value (v), temperature (T), and doping level (c) at the \\\n",
    "    maximum of the average eigenvalue of the Seebeck coefficient', \n",
    "    'σᵉ': 'Value (v), temperature (T), and doping level (c) at the \\\n",
    "    maximum of the average eigenvalue of the conductivity',\n",
    "    'κₑᵉ': 'Value (v), temperature (T), and doping level (c) at the \\\n",
    "    maximum of the average eigenvalue of the electrical thermal conductivity',\n",
    "    'PFᵉ': 'Value (v), temperature (T), and doping level (c) at the \\\n",
    "    maximum of the average eigenvalue of the Power Factor',\n",
    "}\n",
    "\n",
    "references = [\n",
    "    {\"label\": \"SData\", \"url\": \"https://doi.org/10.1038/sdata.2017.85\"},\n",
    "    {\"label\": \"Dryad\", \"url\": \"https://doi.org/10.5061/dryad.gn001\"}\n",
    "]\n",
    "\n",
    "# with Client() as client:\n",
    "#     client.projects.update_entry(pk=name, project={\"other\": None}).result() # ensure order\n",
    "#     client.projects.update_entry(pk=name, project={\n",
    "#         'description': description, 'other': legend, \"references\": references\n",
    "#     }).result()\n",
    "#     client.get_project(name).display()"
   ]
  },
  {
   "cell_type": "code",
   "execution_count": null,
   "metadata": {
    "tags": []
   },
   "outputs": [],
   "source": [
    "eigs_keys = ['ε₁', 'ε₂', 'ε₃', 'ε̄']\n",
    "prop_defs = {\n",
    "    'mₑᶜ': \"mₑ\",\n",
    "    'S': \"µV/K\",\n",
    "    'σ': \"1/fΩ/m/s\",\n",
    "    'κₑ': \"GW/K/m/s\",\n",
    "    'PF': \"GW/K²/m/s\"\n",
    "}\n",
    "ext_defs = {\"T\": \"K\", \"c\": \"µm⁻³\"}\n",
    "columns = {\"task\": None, \"functional\": None, \"metal\": None, \"ΔE\": \"eV\", \"V\": \"Å³\"}\n",
    "\n",
    "for kk, unit in prop_defs.items():\n",
    "    for k in [\"p\", \"n\"]:\n",
    "        if kk.startswith(\"mₑ\"):\n",
    "            for e in eigs_keys:\n",
    "                columns[f\"{kk}.{k}.{e}\"] = unit\n",
    "        else:\n",
    "            columns[f\"{kk}.{k}\"] = unit\n",
    "\n",
    "for kk, unit in prop_defs.items():\n",
    "    if kk.startswith(\"mₑ\"):\n",
    "        continue\n",
    "        \n",
    "    for k in [\"p\", \"n\"]:\n",
    "        path = f\"{kk}ᵉ.{k}\"\n",
    "        columns[f\"{path}.v\"] = unit\n",
    "\n",
    "        for a, b in ext_defs.items():\n",
    "            columns[f\"{path}.{a}\"] = b\n",
    "         \n",
    "        \n",
    "columns[\"tables\"] = None\n",
    "\n",
    "# with Client() as client:\n",
    "#     client.init_columns(name, columns)"
   ]
  },
  {
   "cell_type": "markdown",
   "metadata": {},
   "source": [
    "### Prepare contributions"
   ]
  },
  {
   "cell_type": "code",
   "execution_count": null,
   "metadata": {},
   "outputs": [],
   "source": [
    "input_dir = '/project/projectdirs/matgen/fricci/transport_data/coarse'\n",
    "# input_dir = '/Users/patrick/gitrepos/mp/mpcontribs-data/transport_coarse'\n",
    "props_map = { # original units\n",
    "    'cond_eff_mass': {\"name\": 'mₑᶜ', \"unit\": \"mₑ\"},\n",
    "    'seebeck_doping': {\"name\": 'S', \"unit\": \"µV/K\"},\n",
    "    'cond_doping': {\"name\": 'σ', \"unit\": \"1/Ω/m/s\"},\n",
    "    'kappa_doping': {\"name\": 'κₑ', \"unit\": \"W/K/m/s\"},\n",
    "}"
   ]
  },
  {
   "cell_type": "code",
   "execution_count": null,
   "metadata": {},
   "outputs": [],
   "source": [
    "files = [x for x in os.scandir(input_dir) if x.is_file()]\n",
    "len(files)"
   ]
  },
  {
   "cell_type": "code",
   "execution_count": null,
   "metadata": {},
   "outputs": [],
   "source": [
    "contributions = []\n",
    "total = len(files)\n",
    "columns_name = \"doping level [cm⁻³]\"\n",
    "title_prefix = \"Temperature- and Doping-Level-Dependence\"\n",
    "\n",
    "titles = {\n",
    "    'S': \"Seebeck Coefficient\",\n",
    "    'σ': \"Conductivity\",\n",
    "    'κₑ': \"Electrical Thermal Conductivity\",\n",
    "    'PF': \"Power Factor\"\n",
    "}\n",
    "\n",
    "with Client() as client:\n",
    "    identifiers = client.get_all_ids(dict(project=name)).get(name, {}).get(\"identifiers\", [])\n",
    "    \n",
    "print(\"#contribs:\", len(identifiers))\n",
    "\n",
    "for obj in tqdm(files):\n",
    "    identifier = obj.name.split('.', 1)[0].rsplit('_', 1)[-1]\n",
    "    valid = bool(identifier.startswith('mp-') or identifier.startswith('mvc-'))\n",
    "\n",
    "    if not valid:\n",
    "        print(identifier, 'not valid')\n",
    "        continue\n",
    "\n",
    "    if identifier in identifiers:\n",
    "        continue\n",
    "\n",
    "    with gzip.open(obj.path, 'rb') as input_file:\n",
    "        data = json.loads(input_file.read())\n",
    "        task_type = 'GGA+U' if 'GGA+U' in data['gap'] else 'GGA'\n",
    "        gap = data['gap'][task_type]\n",
    "\n",
    "        cdata = {\n",
    "            \"task\": data['task_id'][task_type],\n",
    "            \"functional\": task_type,\n",
    "            \"metal\": 'Yes' if gap < 0.1 else 'No',\n",
    "            \"ΔE\": f\"{gap} eV\",\n",
    "            \"V\": f\"{data['volume']} Å³\"\n",
    "        }\n",
    "\n",
    "        tables = [] \n",
    "        S2arr = []\n",
    "\n",
    "        for doping_type in ['p', 'n']:\n",
    "\n",
    "            for key, v in props_map.items():\n",
    "                prop = data[task_type][key].get(doping_type, {})\n",
    "                d = prop.get('300', {}).get('1e+18', {})\n",
    "                unit = v[\"unit\"]\n",
    "\n",
    "                if d:\n",
    "                    eigs = d if isinstance(d, list) else d['eigs']\n",
    "                    k = f\"{v['name']}.{doping_type}\"\n",
    "                    value = f\"{np.mean(eigs)} {unit}\"\n",
    "\n",
    "                    if key == 'cond_eff_mass':\n",
    "                        cdata[k] = {eigs_keys[-1]: value}\n",
    "                        for neig, eig in enumerate(eigs):\n",
    "                            cdata[k][eigs_keys[neig]] = f\"{eig} {unit}\"\n",
    "                    else:\n",
    "                        cdata[k] = value\n",
    "                        if key == 'seebeck_doping':\n",
    "                            S2 = np.dot(d['tensor'], d['tensor'])\n",
    "                        elif key == 'cond_doping':\n",
    "                            pf = np.mean(np.linalg.eigh(np.dot(S2, d['tensor']))[0]) * 1e-8\n",
    "                            cdata[f\"PF.{doping_type}\"] = f\"{pf} µW/cm/K²/s\"\n",
    "\n",
    "                if key != \"cond_eff_mass\":\n",
    "                    prop_averages, dopings, cols = [], None, ['T [K]']\n",
    "                    pf_averages = []\n",
    "                    temps = sorted(map(int, prop.keys()))\n",
    "\n",
    "                    for it, temp in enumerate(temps):\n",
    "                        row = [temp]\n",
    "                        row_pf = [temp]\n",
    "\n",
    "                        if dopings is None:\n",
    "                            dopings = sorted(map(float, prop[str(temp)].keys()))\n",
    "\n",
    "                        for idop, doping in enumerate(dopings):\n",
    "                            doping_str = f'{doping:.0e}'\n",
    "                            if len(cols) <= len(dopings):\n",
    "                                cols.append(f'{doping_str}'.replace(\"+\", \"\"))\n",
    "\n",
    "                            d = prop[str(temp)][doping_str]\n",
    "                            row.append(np.mean(d[\"eigs\"]))\n",
    "                            tensor = d['tensor']\n",
    "\n",
    "                            if key == 'seebeck_doping':\n",
    "                                S2arr.append(np.dot(tensor, tensor))\n",
    "                            elif key == 'cond_doping':     \n",
    "                                S2idx = it * len(dopings) + idop\n",
    "                                pf = np.mean(np.linalg.eigh(\n",
    "                                    np.dot(S2arr[S2idx], tensor)\n",
    "                                )[0]) * 1e-8\n",
    "                                row_pf.append(pf)\n",
    "\n",
    "                        prop_averages.append(row)\n",
    "                        pf_averages.append(row_pf)\n",
    "\n",
    "                    df_data = [np.array(prop_averages)]\n",
    "                    if key == 'cond_doping':\n",
    "                        df_data.append(np.array(pf_averages))\n",
    "\n",
    "                    for ii, np_prop_averages in enumerate(df_data):\n",
    "                        nm = \"PF\" if ii else v[\"name\"]\n",
    "                        u = \"µW/cm/K²/s\" if ii else unit\n",
    "\n",
    "                        df = DataFrame(np_prop_averages, columns=cols)\n",
    "                        df.set_index(\"T [K]\", inplace=True)\n",
    "                        df.columns.name = columns_name # legend name\n",
    "                        df.attrs[\"name\"] = f'{nm}({doping_type})'  # -> used as title by default\n",
    "                        df.attrs[\"title\"] = f'{title_prefix} of {doping_type}-type {titles[nm]}'\n",
    "                        df.attrs[\"labels\"] = {\n",
    "                            \"value\": f'{nm}({doping_type}) [{u}]',  # y-axis label\n",
    "                            #\"variable\": columns_name # alternative for df.columns.name\n",
    "                        }\n",
    "                        tables.append(df)\n",
    "\n",
    "                        arr_prop_avg = np_prop_averages[:,1:] #[:,[4,8,12]]\n",
    "                        max_v = np.max(arr_prop_avg)\n",
    "\n",
    "                        if key[0] == 's' and doping_type == 'n':\n",
    "                            max_v = np.min(arr_prop_avg)\n",
    "                        if key[0] == 'k':\n",
    "                            max_v = np.min(arr_prop_avg)\n",
    "\n",
    "                        arg_max = np.argwhere(arr_prop_avg==max_v)[0]\n",
    "                        elabel = f'{nm}ᵉ'\n",
    "                        cdata[f'{elabel}.{doping_type}'] = unflatten({\n",
    "                            'v': f\"{max_v} {u}\",\n",
    "                            'T': f\"{temps[arg_max[0]]} K\",\n",
    "                            'c': f\"{dopings[arg_max[1]]} cm⁻³\"\n",
    "                        })\n",
    "\n",
    "        contrib = {'project': name, 'identifier': identifier, 'is_public': True}\n",
    "        contrib[\"data\"] = unflatten(cdata)\n",
    "        contrib[\"tables\"] = tables\n",
    "        contributions.append(contrib)\n",
    "    \n",
    "len(contributions)"
   ]
  },
  {
   "cell_type": "code",
   "execution_count": null,
   "metadata": {},
   "outputs": [],
   "source": [
    "with open(\"carrier_transport_p-type-update.json\", \"w\") as f:\n",
    "    json.dump(contributions, f)"
   ]
  },
  {
   "cell_type": "markdown",
   "metadata": {},
   "source": [
    "### Submit/Update contributions"
   ]
  },
  {
   "cell_type": "code",
   "execution_count": null,
   "metadata": {},
   "outputs": [],
   "source": [
    "import json\n",
    "\n",
    "with open(\"carrier_transport_p-type-update.json\", \"r\") as f:\n",
    "    contributions = json.load(f)\n",
    "    \n",
    "len(contributions)"
   ]
  },
  {
   "cell_type": "code",
   "execution_count": null,
   "metadata": {},
   "outputs": [],
   "source": [
    "from mpcontribs.client import Client\n",
    "\n",
    "name = \"carrier_transport\"\n",
    "\n",
    "with Client() as client:\n",
    "    query = {\"project\": name, \"data__functional__exact\": \"\"}  # data.functional not set after rename type -> functional\n",
    "    ids_map = client.get_all_ids(query, fmt=\"map\").get(name)\n",
    "\n",
    "len(ids_map)  # = number of contributions to be updated"
   ]
  },
  {
   "cell_type": "code",
   "execution_count": null,
   "metadata": {},
   "outputs": [],
   "source": [
    "# include contribution IDs to request update\n",
    "# and reduce contrib dicts to update keys\n",
    "submit = []\n",
    "\n",
    "for contrib in contributions:\n",
    "    pk = ids_map.get(contrib[\"identifier\"], {}).get(\"id\")\n",
    "    if pk:\n",
    "        submit.append({\"data\": {\n",
    "            k: {\n",
    "                kk: vv\n",
    "                for kk, vv in v.items()\n",
    "                if kk == \"p\"\n",
    "            } if isinstance(v, dict) else v\n",
    "            for k, v in contrib[\"data\"].items()\n",
    "            if k == \"functional\" or \"ᵉ\" in k\n",
    "        }})\n",
    "        submit[-1][\"id\"] = pk\n",
    "\n",
    "len(submit)"
   ]
  },
  {
   "cell_type": "code",
   "execution_count": null,
   "metadata": {
    "scrolled": true,
    "tags": []
   },
   "outputs": [],
   "source": [
    "with Client() as client:\n",
    "    #client.delete_contributions(name)\n",
    "    #client.init_columns(name, columns)\n",
    "    client.submit_contributions(submit, ignore_dupes=True)"
   ]
  },
  {
   "cell_type": "markdown",
   "metadata": {},
   "source": [
    "### Query contributions"
   ]
  },
  {
   "cell_type": "code",
   "execution_count": null,
   "metadata": {},
   "outputs": [],
   "source": [
    "from mpcontribs.client import Client\n",
    "\n",
    "query = {\n",
    "    \"project\": \"carrier_transport\",\n",
    "#     \"formula_contains\": \"ZnS\",\n",
    "#    \"identifier__in\": [\"mp-10695\", \"mp-760381\"], # ZnS, CuS\n",
    "    \"data__functional__exact\": \"GGA+U\",\n",
    "    \"data__metal__contains\": \"Y\",\n",
    "    \"data__mₑᶜ__p__ε̄__value__gte\": 1000,\n",
    "    \"_order_by\": \"data__mₑᶜ__p__ε̄__value\",\n",
    "    \"order\": \"desc\",\n",
    "    \"_fields\": [\"id\", \"identifier\", \"formula\", \"data.mₑᶜ.p.ε̄.value\"]\n",
    "}\n",
    "\n",
    "with Client() as client:\n",
    "    result = client.contributions.get_entries(**query).result()\n",
    "    \n",
    "result"
   ]
  },
  {
   "cell_type": "markdown",
   "metadata": {},
   "source": [
    "### Generate snapshots / downloads [optional]"
   ]
  },
  {
   "cell_type": "code",
   "execution_count": null,
   "metadata": {},
   "outputs": [],
   "source": [
    "from mpcontribs.client import Client\n",
    "\n",
    "client = Client()"
   ]
  },
  {
   "cell_type": "code",
   "execution_count": null,
   "metadata": {},
   "outputs": [],
   "source": [
    "query = {\n",
    "    \"project\": \"carrier_transport\",\n",
    "    \"formula__contains\": \"Zn\",\n",
    "}\n",
    "\n",
    "print(client.get_totals(query=query))\n",
    "query[\"format\"] = \"json\" # \"csv\" or \"json\"\n",
    "client.download_contributions(query) #, include=[\"tables\"])"
   ]
  },
  {
   "cell_type": "code",
   "execution_count": null,
   "metadata": {},
   "outputs": [],
   "source": [
    "client.session.close()"
   ]
  },
  {
   "cell_type": "markdown",
   "metadata": {},
   "source": [
    "### (Re-)build notebooks [optional]"
   ]
  },
  {
   "cell_type": "code",
   "execution_count": null,
   "metadata": {},
   "outputs": [],
   "source": []
  }
 ],
 "metadata": {
  "kernelspec": {
   "display_name": "mpcontribs-client",
   "language": "python",
   "name": "mpcontribs-client"
  },
  "language_info": {
   "codemirror_mode": {
    "name": "ipython",
    "version": 3
   },
   "file_extension": ".py",
   "mimetype": "text/x-python",
   "name": "python",
   "nbconvert_exporter": "python",
   "pygments_lexer": "ipython3",
   "version": "3.7.6"
  }
 },
 "nbformat": 4,
 "nbformat_minor": 4
}
