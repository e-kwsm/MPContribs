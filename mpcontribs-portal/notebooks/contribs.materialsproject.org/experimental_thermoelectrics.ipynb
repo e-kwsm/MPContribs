{
 "cells": [
  {
   "cell_type": "code",
   "execution_count": null,
   "id": "0b251e3c-5076-489f-bc37-b76eb90ed9e9",
   "metadata": {},
   "outputs": [],
   "source": [
    "from mpcontribs.client import Client\n",
    "from mp_api.client import MPRester\n",
    "import pandas as pd\n",
    "import os\n",
    "from flatten_dict import unflatten, flatten\n",
    "from math import isnan"
   ]
  },
  {
   "cell_type": "code",
   "execution_count": null,
   "id": "7d438db9-0d0e-4bb4-a7b1-2a3b1f53d5c2",
   "metadata": {},
   "outputs": [],
   "source": [
    "fn = \"/Users/patrick/GoogleDriveLBNL/My Drive/MaterialsProject/gitrepos/mpcontribs-data/20180504_TE_survey_Kleinke.xlsx\"\n",
    "df = pd.read_excel(fn)"
   ]
  },
  {
   "cell_type": "code",
   "execution_count": null,
   "id": "f5d121f4-114c-4df6-90ab-0c384a6ce964",
   "metadata": {},
   "outputs": [],
   "source": [
    "df.shape"
   ]
  },
  {
   "cell_type": "code",
   "execution_count": null,
   "id": "03dce36c-92e0-4502-aacf-9b50ae2ea099",
   "metadata": {},
   "outputs": [],
   "source": [
    "apikey = os.environ[\"MPCONTRIBS_API_KEY\"]"
   ]
  },
  {
   "cell_type": "code",
   "execution_count": null,
   "id": "531465fe-0317-49cd-be34-333fe26188b4",
   "metadata": {},
   "outputs": [],
   "source": [
    "name = \"experimental_thermoelectrics\""
   ]
  },
  {
   "cell_type": "code",
   "execution_count": null,
   "id": "4f1427aa-5d4c-481b-bca4-e8db5438bfba",
   "metadata": {},
   "outputs": [],
   "source": [
    "with MPRester(apikey) as mpr:  # needs MP_API_KEY environment variable to be set\n",
    "    mpr.contribs.create_project(\n",
    "        name=name,\n",
    "        title=\"Experimental Thermoelectrics\",\n",
    "        authors=\"R. Seshradi\",\n",
    "        description=\"Data-Driven Review of Thermoelectric Materials: Performance and Resource Considerations.\",\n",
    "        url=\"https://pubs.acs.org/doi/10.1021/cm400893e\"\n",
    "    )"
   ]
  },
  {
   "cell_type": "code",
   "execution_count": null,
   "id": "1632dc9d-3370-404e-ae2e-d1d5ef6499b6",
   "metadata": {},
   "outputs": [],
   "source": [
    "client = Client(project=name)"
   ]
  },
  {
   "cell_type": "code",
   "execution_count": null,
   "id": "96544b08-5666-47d7-9ca8-0fe22b426734",
   "metadata": {},
   "outputs": [],
   "source": [
    "client.get_project()"
   ]
  },
  {
   "cell_type": "code",
   "execution_count": null,
   "id": "bff680b0-a891-4306-8e1d-f23b08ca7d1e",
   "metadata": {},
   "outputs": [],
   "source": [
    "columns_map = {\n",
    "    \"T (K)\": {\"name\": \"temperature\", \"unit\": \"K\", \"description\": \"Temperature in Kelvin\"},\n",
    "    \"Z*10^-4 reported\": {\"name\": \"Z\", \"unit\": \"\", \"description\": \"reported Z\", \"scale\": 1e4},\n",
    "    \"Resist. (Ohm.cm)\": {\"name\": \"resistivity.RT\", \"unit\": \"Ω·cm\", \"description\": \"Resistivity at room temperature in Ωcm\"},\n",
    "    \"Resist. (400K)\": {\"name\": \"resistivity.400K\", \"unit\": \"Ω·cm\", \"description\": \"Resistivity at 400K in Ωcm\"},\n",
    "    \"Seebeck (uV/K)\": {\"name\": \"seebeck.RT\", \"unit\": \"µV/K\", \"description\": \"Seebeck coefficient at room temperature in µV/K\"},\n",
    "    \"Seebeck (400K)\": {\"name\": \"seebeck.400K\", \"unit\": \"µV/K\", \"description\": \"Seebeck coefficient at 400K in µV/K\"},\n",
    "    \"kappa (W/mK)\": {\"name\": \"kappa.mean\", \"unit\": \"W/mK\", \"description\": \"TODO\"},\n",
    "    \"kappaZT\": {\"name\": \"kappa.ZT\", \"unit\": \"\", \"description\": \"TODO\"},\n",
    "    \"Pf (W/K^2/m)\": {\"name\": \"Pf\", \"unit\": \"W/K²/m\", \"description\": \"Power Factor in W/K²/m\"},\n",
    "    \"Power Factor*T (W/mK)\": {\"name\": \"PfT\", \"unit\": \"W/K/m\", \"description\": \"Power Factor times Temperature in W/K/m\"},\n",
    "    \"ZT\": {\"name\": \"ZT\", \"unit\": \"\", \"description\": \"ZT\"},\n",
    "    \"x\": {\"name\": \"x\", \"unit\": \"\", \"description\": \"TODO\"},\n",
    "    \"series\": {\"name\": \"series\", \"unit\": None, \"description\": \"TODO\"},\n",
    "    \"T Max\": {\"name\": \"Tmax\", \"unit\": \"K\", \"description\": \"TODO\"},\n",
    "    \"family\": {\"name\": \"family\", \"unit\": None, \"description\": \"TODO\"},\n",
    "    \"Conduct. (S/cm)\": {\"name\": \"conductivity\", \"unit\": \"S/cm\", \"description\": \"Conductivity in S/cm\"},\n",
    "    \"S^2\": {\"name\": \"S2\", \"unit\": \"\", \"description\": \"S²\"},\n",
    "    \"ke/ktotal\": {\"name\": \"ke|rel\", \"unit\": \"\", \"description\": \"ke/ktotal\"},\n",
    "    \"space group\": {\"name\": \"spacegroup\", \"unit\": \"\", \"description\": \"space group\"},\n",
    "    \"# symmetry elements\": {\"name\": \"nsymelems\", \"unit\": \"\", \"description\": \"number of symmetry elements\"},\n",
    "    \"preparative route\": {\"name\": \"route\", \"unit\": None, \"description\": \"Preparative Route\"},\n",
    "    \"final form\": {\"name\": \"final\", \"unit\": None, \"description\": \"Final Form\"},\n",
    "    \"Authors\": {\"name\": \"authors.main\", \"unit\": None, \"description\": \"Authors\"},\n",
    "    \"Author of Unit Cell\": {\"name\": \"authors.cell\", \"unit\": None, \"description\": \"Author of Unit Cell\"},\n",
    "    \"DOI\": {\"name\": \"dois.main\", \"unit\": None, \"description\": \"Digital Object Identifier (DOI)\"},\n",
    "    \"Unit Cell DOI\": {\"name\": \"dois.cell\", \"unit\": None, \"description\": \"Unit Cell DOI\"},\n",
    "    \"ICSD of structure\": {\"name\": \"icsd.number\", \"unit\": \"\", \"description\": \"ICSD of structure\"},\n",
    "    \"temp of ICSD (K)\": {\"name\": \"icsd.temperature\", \"unit\": \"K\", \"description\": \"temp of ICSD (K)\"},\n",
    "    \"Cell Volume (A^3)\": {\"name\": \"volume.cell\", \"unit\": \"Å³\", \"description\": \"Cell Volume in Å³\"},\n",
    "    \"average atomic volume\": {\"name\": \"volume.atomic\", \"unit\": \"\", \"description\": \"average atomic volume\"},\n",
    "    \"Formula Units per Cell\": {\"name\": \"units\", \"unit\": \"\", \"description\": \"Formula Units per Cell\"},\n",
    "    \"Atoms per formula unit\": {\"name\": \"natoms.formunit\", \"unit\": \"\", \"description\": \"Atoms per formula unit\"},\n",
    "    \"total atoms per unit cell\": {\"name\": \"natoms.total\", \"unit\": \"\", \"description\": \"total atoms per unit cell\"}\n",
    "}\n",
    "skip = (\"Unnamed:\", \"Comments\")\n",
    "# for col in df.columns:\n",
    "#     if not col.startswith(skip) and col not in columns_map:\n",
    "#         print(col)\n",
    "\n",
    "columns = {col[\"name\"]: col.get(\"unit\") for col in columns_map.values()}"
   ]
  },
  {
   "cell_type": "code",
   "execution_count": null,
   "id": "485e9d06-1035-449f-9227-06664f2b780d",
   "metadata": {},
   "outputs": [],
   "source": [
    "import csv\n",
    "field_names = [\"column\", \"name\", \"unit\", \"scale\", \"description\"]\n",
    "csvlines = []\n",
    "for k, v in columns_map.items():\n",
    "    line = {\"column\": k}\n",
    "    line.update(v)\n",
    "    csvlines.append(line)\n",
    "    \n",
    "with open(f'{name}_columns.csv', 'w') as csvfile:\n",
    "    writer = csv.DictWriter(csvfile, fieldnames=field_names)\n",
    "    writer.writeheader()\n",
    "    writer.writerows(csvlines)"
   ]
  },
  {
   "cell_type": "code",
   "execution_count": null,
   "id": "e22af51b-9a82-4580-8cd8-2136f8a11c04",
   "metadata": {},
   "outputs": [],
   "source": [
    "other = unflatten({\n",
    "    col[\"name\"]: col[\"description\"] for col in columns_map.values()\n",
    "}, splitter=\"dot\")\n",
    "client.update_project({\"other\": other})"
   ]
  },
  {
   "cell_type": "code",
   "execution_count": null,
   "id": "ff4b0729-d640-4f29-94d4-e73cbcee56c7",
   "metadata": {},
   "outputs": [],
   "source": [
    "provenance = mpr.materials.provenance.search(fields=[\"material_id\", \"database_IDs\"])"
   ]
  },
  {
   "cell_type": "code",
   "execution_count": null,
   "id": "9883b72d-7f80-4902-bbb0-4045b7e0b686",
   "metadata": {},
   "outputs": [],
   "source": [
    "from emmet.core.provenance import Database"
   ]
  },
  {
   "cell_type": "code",
   "execution_count": null,
   "id": "82a4d5cc-3e74-4ef8-83b4-057d591f0b26",
   "metadata": {},
   "outputs": [],
   "source": [
    "icsd_lookup = {}\n",
    "\n",
    "for prov in provenance:\n",
    "    icsds = prov.database_IDs.get(Database.ICSD, [])\n",
    "    for icsd in icsds:\n",
    "        icsd_lookup[icsd.split(\"-\")[-1]] = str(prov.material_id)\n",
    "\n",
    "len(icsd_lookup)"
   ]
  },
  {
   "cell_type": "code",
   "execution_count": null,
   "id": "9c6ee56e-a825-4c7e-abe6-a8129fff2006",
   "metadata": {},
   "outputs": [],
   "source": [
    "client.update_project({\"unique_identifiers\": False})"
   ]
  },
  {
   "cell_type": "code",
   "execution_count": null,
   "id": "6316b349-2046-4951-82d7-6d82dce20c35",
   "metadata": {},
   "outputs": [],
   "source": [
    "contributions = []\n",
    "\n",
    "for record in df.to_dict(\"records\"):\n",
    "    formula = record.pop(\"Formula\")\n",
    "    if not isinstance(formula, str) and isnan(formula):\n",
    "        continue\n",
    "        \n",
    "    clean = {}\n",
    "    for k, v in record.items():\n",
    "        if k.startswith(skip) or k not in columns_map:\n",
    "            continue\n",
    "\n",
    "        # remove NaNs (tip: skip any unset/empty keys)\n",
    "        if not isinstance(v, str) and isnan(v):\n",
    "            continue\n",
    "        # convert boolean values to Yes/No, and append units       \n",
    "        key = columns_map[k][\"name\"]\n",
    "        unit = columns_map[k].get(\"unit\")\n",
    "        scale = columns_map[k].get(\"scale\")\n",
    "        val = v\n",
    "        if scale is not None and isinstance(scale, (float, int)):\n",
    "            val *= scale\n",
    "        \n",
    "        if isinstance(v, bool):\n",
    "            val = \"Yes\" if v else \"No\"\n",
    "        elif isinstance(v, int) and not unit:\n",
    "            val = str(v)\n",
    "        elif unit:\n",
    "            val = f\"{v} {unit}\"\n",
    "\n",
    "        clean[key] = val\n",
    "\n",
    "    icsd = clean.get(\"icsd.number\")\n",
    "    if not icsd:\n",
    "        continue\n",
    "        \n",
    "    identifier = icsd_lookup.get(icsd)\n",
    "    if not identifier:\n",
    "        continue\n",
    "\n",
    "    contrib = {\"identifier\": identifier, \"formula\": formula}\n",
    "    contrib[\"data\"] = unflatten(clean, splitter=\"dot\")\n",
    "    contributions.append(contrib)\n",
    "\n",
    "len(contributions)"
   ]
  },
  {
   "cell_type": "code",
   "execution_count": null,
   "id": "4129eee3-b46d-4cd2-adb3-d9f251d3dd72",
   "metadata": {},
   "outputs": [],
   "source": [
    "client.delete_contributions()  # remove all contributions from project\n",
    "client.init_columns(columns)\n",
    "client.submit_contributions(contributions)\n",
    "client.init_columns(columns) # shouldn't be needed but ensures all columns appear\n",
    "# client.make_public()"
   ]
  },
  {
   "cell_type": "code",
   "execution_count": null,
   "id": "d5e1350f-19ad-4de5-af3e-706b9e63097d",
   "metadata": {},
   "outputs": [],
   "source": []
  }
 ],
 "metadata": {
  "kernelspec": {
   "display_name": "Python 3",
   "language": "python",
   "name": "python3"
  },
  "language_info": {
   "codemirror_mode": {
    "name": "ipython",
    "version": 3
   },
   "file_extension": ".py",
   "mimetype": "text/x-python",
   "name": "python",
   "nbconvert_exporter": "python",
   "pygments_lexer": "ipython3",
   "version": "3.9.1"
  }
 },
 "nbformat": 4,
 "nbformat_minor": 5
}
